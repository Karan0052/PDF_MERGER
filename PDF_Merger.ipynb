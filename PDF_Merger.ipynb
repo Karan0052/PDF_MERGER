{
  "nbformat": 4,
  "nbformat_minor": 0,
  "metadata": {
    "colab": {
      "provenance": [],
      "authorship_tag": "ABX9TyN+Df36HWdYUgy/CBdFbv0M",
      "include_colab_link": true
    },
    "kernelspec": {
      "name": "python3",
      "display_name": "Python 3"
    },
    "language_info": {
      "name": "python"
    }
  },
  "cells": [
    {
      "cell_type": "markdown",
      "metadata": {
        "id": "view-in-github",
        "colab_type": "text"
      },
      "source": [
        "<a href=\"https://colab.research.google.com/github/Karan0052/PDF_MERGER/blob/main/PDF_Merger.ipynb\" target=\"_parent\"><img src=\"https://colab.research.google.com/assets/colab-badge.svg\" alt=\"Open In Colab\"/></a>"
      ]
    },
    {
      "cell_type": "code",
      "execution_count": null,
      "metadata": {
        "id": "7JfQoCurMeNa"
      },
      "outputs": [],
      "source": [
        "# Day 41 of 100 days coding\n",
        "# PDF Merger\n",
        "\n",
        "from PyPDF2 import PdfWriter\n",
        "import os\n",
        "\n",
        "merger = PdfWriter()\n",
        "files = [file for file in os.listdir() if file.endswith(\".pdf\")]\n",
        "\n",
        "for pdf in files:\n",
        "  merger.append(pdf)\n",
        "\n",
        "merger.write(\"Merged.pdf\")\n",
        "merger.close()\n",
        "\n",
        "\n"
      ]
    }
  ]
}